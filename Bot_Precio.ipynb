{
  "nbformat": 4,
  "nbformat_minor": 0,
  "metadata": {
    "colab": {
      "name": "Bot_Precio.ipynb",
      "provenance": [],
      "collapsed_sections": [
        "0eJ_OD-_skDn",
        "6-n3iLn3s_OD",
        "dyEOM0I9sq-w",
        "yoW26kpmsv__",
        "ndDYEwAJviCf",
        "iN7bFQO2qJfB",
        "Zp5xfNvUzXmZ",
        "VKYj9hdideAG"
      ]
    },
    "kernelspec": {
      "name": "python3",
      "display_name": "Python 3"
    },
    "language_info": {
      "name": "python"
    }
  },
  "cells": [
    {
      "cell_type": "markdown",
      "metadata": {
        "id": "0eJ_OD-_skDn"
      },
      "source": [
        "### **Scan Basico**"
      ]
    },
    {
      "cell_type": "code",
      "metadata": {
        "id": "Di3tr21MYQ-L"
      },
      "source": [
        "import requests\n",
        "from bs4 import BeautifulSoup"
      ],
      "execution_count": null,
      "outputs": []
    },
    {
      "cell_type": "code",
      "metadata": {
        "id": "GtNLGJp6YQ6r"
      },
      "source": [
        "url='https://www.falabella.com/falabella-cl/product/5931544'"
      ],
      "execution_count": null,
      "outputs": []
    },
    {
      "cell_type": "code",
      "metadata": {
        "id": "fiqtgLU4YQbv"
      },
      "source": [
        "#Contenido HTML\n",
        "html = requests.get(url)\n",
        "soup = BeautifulSoup( html.text, 'html.parser')\n",
        "\n",
        "producto = soup.h1.get_text()\n",
        "\n",
        "# Finding by class name\n",
        "precio= soup.find( class_ = 'copy12' )   #class=\"copy12 primary high jsx-2612542277 normal"
      ],
      "execution_count": null,
      "outputs": []
    },
    {
      "cell_type": "code",
      "metadata": {
        "colab": {
          "base_uri": "https://localhost:8080/"
        },
        "id": "8fSINyw7kCqX",
        "outputId": "7f94cda3-b343-47bd-98fd-3af6947c2c87"
      },
      "source": [
        "#Obtener precio objeto\n",
        "for i in precio:\n",
        "    print(i,type(i))"
      ],
      "execution_count": null,
      "outputs": [
        {
          "output_type": "stream",
          "name": "stdout",
          "text": [
            "$  599.990   <class 'bs4.element.NavigableString'>\n"
          ]
        }
      ]
    },
    {
      "cell_type": "code",
      "metadata": {
        "colab": {
          "base_uri": "https://localhost:8080/",
          "height": 245
        },
        "id": "dl4xl5KKjwtX",
        "outputId": "87622992-e933-4f29-ab2e-0d58572b911a"
      },
      "source": [
        "#Obtener precio STR\n",
        "precio.get_text()"
      ],
      "execution_count": null,
      "outputs": [
        {
          "output_type": "execute_result",
          "data": {
            "application/vnd.google.colaboratory.intrinsic+json": {
              "type": "string"
            },
            "text/plain": [
              "'$  599.990  '"
            ]
          },
          "metadata": {},
          "execution_count": 5
        }
      ]
    },
    {
      "cell_type": "code",
      "metadata": {
        "colab": {
          "base_uri": "https://localhost:8080/",
          "height": 207
        },
        "id": "aHwkaUCXkiXm",
        "outputId": "a934c611-03cd-444c-a12d-c5af7b2a26a5"
      },
      "source": [
        "#Obtener precio INT\n",
        "b=precio.get_text().replace('$','').replace(' ','').replace('.','')\n",
        "b"
      ],
      "execution_count": null,
      "outputs": [
        {
          "output_type": "execute_result",
          "data": {
            "application/vnd.google.colaboratory.intrinsic+json": {
              "type": "string"
            },
            "text/plain": [
              "'599990'"
            ]
          },
          "metadata": {},
          "execution_count": 6
        }
      ]
    },
    {
      "cell_type": "markdown",
      "metadata": {
        "id": "6-n3iLn3s_OD"
      },
      "source": [
        "### **Comprimido**"
      ]
    },
    {
      "cell_type": "code",
      "metadata": {
        "id": "kTk6zGGbgOcN"
      },
      "source": [
        "#importamos Librerías necesarias\n",
        "import requests\n",
        "from bs4 import BeautifulSoup\n",
        "\n",
        "#Url producto\n",
        "url='https://www.falabella.com/falabella-cl/product/5931544'\n",
        "\n",
        "#Contenido HTML\n",
        "html = requests.get(url)\n",
        "soup = BeautifulSoup( html.text, 'html.parser')\n",
        "\n",
        "producto = soup.h1.get_text()\n",
        "precio = int(soup.find( class_ = 'copy12' ).get_text().replace('$','').replace(' ','').replace('.',''))     #class=\"copy12 primary high jsx-2612542277 normal"
      ],
      "execution_count": null,
      "outputs": []
    },
    {
      "cell_type": "markdown",
      "metadata": {
        "id": "dyEOM0I9sq-w"
      },
      "source": [
        "### **Scan por ID**"
      ]
    },
    {
      "cell_type": "code",
      "metadata": {
        "colab": {
          "base_uri": "https://localhost:8080/"
        },
        "id": "eFeLci60n-5Y",
        "outputId": "9d909db0-c059-48a8-f6f5-7bfc724b0ccd"
      },
      "source": [
        "#Scan por ID de Producto\n",
        "url1='https://www.falabella.com/falabella-cl/product/'\n",
        "id= 5931540\n",
        "\n",
        "for i in range(10):\n",
        "    \n",
        "    url= url1 + str(id)\n",
        "\n",
        "    #Contenido HTML\n",
        "    html = requests.get(url)\n",
        "    soup = BeautifulSoup( html.text, 'html.parser')\n",
        "    try:\n",
        "        producto = soup.h1.get_text()\n",
        "        precio = int(soup.find( class_ = 'copy12' ).get_text().replace('$','').replace(' ','').replace('.',''))     #class=\"copy12 primary high jsx-2612542277 normal\n",
        "    except:\n",
        "        id+=1\n",
        "        continue\n",
        "    id+=1\n",
        "    print(producto, precio , url)"
      ],
      "execution_count": null,
      "outputs": [
        {
          "output_type": "stream",
          "name": "stdout",
          "text": [
            "Bicicleta Spinning Beat 52  599990 https://www.falabella.com/falabella-cl/product/5931544\n"
          ]
        }
      ]
    },
    {
      "cell_type": "markdown",
      "metadata": {
        "id": "yoW26kpmsv__"
      },
      "source": [
        "### **Scan Lista**"
      ]
    },
    {
      "cell_type": "code",
      "metadata": {
        "colab": {
          "base_uri": "https://localhost:8080/"
        },
        "id": "8kmlvEx7gOpu",
        "outputId": "d180ea0e-b2a9-4edc-fd61-7f4430249bf7"
      },
      "source": [
        "#importamos Librerías necesarias\n",
        "import requests\n",
        "from bs4 import BeautifulSoup\n",
        "\n",
        "#Url productos\n",
        "links=['https://www.falabella.com/falabella-cl/product/prod24342597/Apple-iPhone-12-128GB/14686769',\n",
        "     'https://www.falabella.com/falabella-cl/product/15685801/Smartphone-Nova-8i-128GB-+-Huawei-Band-4/15685801',\n",
        "     'https://www.falabella.com/falabella-cl/product/15676338/Apple-Watch-Serie-7-45-mm/15676338',\n",
        "     'https://www.falabella.com/falabella-cl/product/110406782/Freezer-horizontal-138-litros-blanco/110406785',\n",
        "     'https://www.falabella.com/falabella-cl/category/cat9560006/Hidrolavadoras?sid=HO_M4_HID_24',\n",
        "     'https://www.falabella.com/falabella-cl/product/15080676/MacBook-Pro-13-M1-8GB-RAM-512GB-SSD-Space-Gray-Touch-Bar/15080676',\n",
        "     'https://www.falabella.com/falabella-cl/product/50008026/Air-Max-90-Zapatilla-Urbana-Hombre/50008036',\n",
        "     'https://www.falabella.com/falabella-cl/product/15415662/Mocasin-Hombre-Cuero-Negro/15415665',\n",
        "     'https://www.falabella.com/falabella-cl/product/14563054/Pack-de-6-Calcetines-Deportivos-Training-Hombre/14563056',\n",
        "     'https://www.falabella.com/falabella-cl/product/110150161/Cabina-de-ducha-90x90x215-cm/110150162',\n",
        "     'https://www.falabella.com/falabella-cl/product/15093715/OLED-65''-OLED65C1-4K-TV-UHD-TV-Smart-TV-+-Magic-Remote/15093715'\n",
        "]\n",
        "\n",
        "for url in links:\n",
        "\n",
        "    #Contenido HTML\n",
        "    html = requests.get(url)\n",
        "    soup = BeautifulSoup( html.text, 'html.parser')\n",
        "    try:\n",
        "        producto = soup.h1.get_text()\n",
        "        precio = int(soup.find( class_ = 'copy12' ).get_text().replace('$','').replace(' ','').replace('.',''))     #class=\"copy12 primary high jsx-2612542277 normal\n",
        "    except:\n",
        "        continue\n",
        "    print(producto, precio , url)\n"
      ],
      "execution_count": null,
      "outputs": [
        {
          "output_type": "stream",
          "name": "stdout",
          "text": [
            "Apple iPhone 12 128GB  809990 https://www.falabella.com/falabella-cl/product/prod24342597/Apple-iPhone-12-128GB/14686769\n",
            "Smartphone Nova 8i 128GB + Huawei Band 4  329990 https://www.falabella.com/falabella-cl/product/15685801/Smartphone-Nova-8i-128GB-+-Huawei-Band-4/15685801\n",
            "Freezer horizontal 138 litros blanco  159990 https://www.falabella.com/falabella-cl/product/110406782/Freezer-horizontal-138-litros-blanco/110406785\n",
            "MacBook Pro 13\" M1 8GB RAM 512GB SSD Space Gray Touch Bar  1309990 https://www.falabella.com/falabella-cl/product/15080676/MacBook-Pro-13-M1-8GB-RAM-512GB-SSD-Space-Gray-Touch-Bar/15080676\n",
            "Air Max 90 Zapatilla Urbana Hombre  112990 https://www.falabella.com/falabella-cl/product/50008026/Air-Max-90-Zapatilla-Urbana-Hombre/50008036\n",
            "Mocasín Hombre Cuero Negro  49990 https://www.falabella.com/falabella-cl/product/15415662/Mocasin-Hombre-Cuero-Negro/15415665\n",
            "Pack de 6 Calcetines Deportivos Training Hombre  15990 https://www.falabella.com/falabella-cl/product/14563054/Pack-de-6-Calcetines-Deportivos-Training-Hombre/14563056\n",
            "Cabina de ducha 90x90x215 cm  379990 https://www.falabella.com/falabella-cl/product/110150161/Cabina-de-ducha-90x90x215-cm/110150162\n",
            "OLED 65'' OLED65C1 4K TV UHD TV Smart TV + Magic Remote  1599990 https://www.falabella.com/falabella-cl/product/15093715/OLED-65-OLED65C1-4K-TV-UHD-TV-Smart-TV-+-Magic-Remote/15093715\n"
          ]
        }
      ]
    },
    {
      "cell_type": "code",
      "metadata": {
        "id": "wDLq64kXn-0C"
      },
      "source": [
        ""
      ],
      "execution_count": null,
      "outputs": []
    },
    {
      "cell_type": "markdown",
      "metadata": {
        "id": "ndDYEwAJviCf"
      },
      "source": [
        "### **Scan Lista con DATA**"
      ]
    },
    {
      "cell_type": "code",
      "metadata": {
        "colab": {
          "base_uri": "https://localhost:8080/"
        },
        "id": "5m56AANDn-xS",
        "outputId": "1145eb9b-e1bd-4c04-a19c-3d99ecc4c153"
      },
      "source": [
        "#importamos Librerías necesarias\n",
        "import csv\n",
        "import requests\n",
        "from bs4 import BeautifulSoup\n",
        "\n",
        "#Url productos\n",
        "links=['https://www.falabella.com/falabella-cl/product/prod24342597/Apple-iPhone-12-128GB/14686769',\n",
        "     'https://www.falabella.com/falabella-cl/product/15685801/Smartphone-Nova-8i-128GB-+-Huawei-Band-4/15685801',\n",
        "     'https://www.falabella.com/falabella-cl/product/15676338/Apple-Watch-Serie-7-45-mm/15676338',\n",
        "     'https://www.falabella.com/falabella-cl/product/110406782/Freezer-horizontal-138-litros-blanco/110406785',\n",
        "     'https://www.falabella.com/falabella-cl/category/cat9560006/Hidrolavadoras?sid=HO_M4_HID_24',\n",
        "     'https://www.falabella.com/falabella-cl/product/15080676/MacBook-Pro-13-M1-8GB-RAM-512GB-SSD-Space-Gray-Touch-Bar/15080676',\n",
        "     'https://www.falabella.com/falabella-cl/product/50008026/Air-Max-90-Zapatilla-Urbana-Hombre/50008036',\n",
        "     'https://www.falabella.com/falabella-cl/product/15415662/Mocasin-Hombre-Cuero-Negro/15415665',\n",
        "     'https://www.falabella.com/falabella-cl/product/14563054/Pack-de-6-Calcetines-Deportivos-Training-Hombre/14563056',\n",
        "     'https://www.falabella.com/falabella-cl/product/110150161/Cabina-de-ducha-90x90x215-cm/110150162',\n",
        "     'https://www.falabella.com/falabella-cl/product/15093715/OLED-65''-OLED65C1-4K-TV-UHD-TV-Smart-TV-+-Magic-Remote/15093715'\n",
        "]\n",
        "data_list=[]\n",
        "dict1={}\n",
        "for url in links:\n",
        "\n",
        "    #Contenido HTML\n",
        "    html = requests.get(url)\n",
        "    soup = BeautifulSoup( html.text, 'html.parser')\n",
        "    try:\n",
        "        producto = soup.h1.get_text()\n",
        "        precio = soup.find( class_ = 'copy12' ).get_text().replace('$','').replace(' ','').replace('.','')     #class=\"copy12 primary high jsx-2612542277 normal\n",
        "    except:\n",
        "        continue\n",
        "\n",
        "    dict1.update({producto:[precio, None, url]})\n",
        "    data_list.append([producto, str(precio) , url])\n",
        "    print(producto, precio , url)\n"
      ],
      "execution_count": null,
      "outputs": [
        {
          "output_type": "stream",
          "name": "stdout",
          "text": [
            "Apple iPhone 12 128GB  809990 https://www.falabella.com/falabella-cl/product/prod24342597/Apple-iPhone-12-128GB/14686769\n",
            "Smartphone Nova 8i 128GB + Huawei Band 4  329990 https://www.falabella.com/falabella-cl/product/15685801/Smartphone-Nova-8i-128GB-+-Huawei-Band-4/15685801\n",
            "Freezer horizontal 138 litros blanco  159990 https://www.falabella.com/falabella-cl/product/110406782/Freezer-horizontal-138-litros-blanco/110406785\n",
            "MacBook Pro 13\" M1 8GB RAM 512GB SSD Space Gray Touch Bar  1309990 https://www.falabella.com/falabella-cl/product/15080676/MacBook-Pro-13-M1-8GB-RAM-512GB-SSD-Space-Gray-Touch-Bar/15080676\n",
            "Air Max 90 Zapatilla Urbana Hombre  112990 https://www.falabella.com/falabella-cl/product/50008026/Air-Max-90-Zapatilla-Urbana-Hombre/50008036\n",
            "Mocasín Hombre Cuero Negro  49990 https://www.falabella.com/falabella-cl/product/15415662/Mocasin-Hombre-Cuero-Negro/15415665\n",
            "Pack de 6 Calcetines Deportivos Training Hombre  15990 https://www.falabella.com/falabella-cl/product/14563054/Pack-de-6-Calcetines-Deportivos-Training-Hombre/14563056\n",
            "Cabina de ducha 90x90x215 cm  379990 https://www.falabella.com/falabella-cl/product/110150161/Cabina-de-ducha-90x90x215-cm/110150162\n",
            "OLED 65'' OLED65C1 4K TV UHD TV Smart TV + Magic Remote  1599990 https://www.falabella.com/falabella-cl/product/15093715/OLED-65-OLED65C1-4K-TV-UHD-TV-Smart-TV-+-Magic-Remote/15093715\n"
          ]
        }
      ]
    },
    {
      "cell_type": "code",
      "metadata": {
        "id": "11wEXIV3ojgu"
      },
      "source": [
        "#Leer datos de CSV\n",
        "dict2={}\n",
        "with open('Data.csv') as R:\n",
        "    lee = csv.reader(R.readlines()[1:])\n",
        "    for line in lee:\n",
        "        dict2.update({line[0]:[line[1], line[2], line[3]]})\n",
        "\n",
        "#Comparación de dict1/dict2\n",
        "if dict1 == dict2:\n",
        "    for key, value in dict1.items():\n",
        "        if key in dict2:\n",
        "            #Comparamos precio\n",
        "            if value[0] != dict2[key][0]:\n",
        "                precio_antiguo = dict2[key][0]\n",
        "                dict1.update({key:[value[0], precio_antiguo, value[2]]})\n",
        "\n",
        "                #dict1[key] = [value[0], precio_antiguo, value[2]]\n",
        "                #Cambio el precio enviar msj\n",
        "\n",
        "#Combina todo dict2 en dict1\n",
        "dict1.update(dict2)\n",
        "\n",
        "#Guardar datos\n",
        "with open('Data.csv', 'w', newline='') as file:\n",
        "    writer = csv.writer(file)\n",
        "    writer.writerow(['Producto', 'Precio', 'Nuevo Precio', 'Link'])\n",
        "    for key, value in dict1.items():\n",
        "        writer.writerow([key, value[0], value[1], value[2]])"
      ],
      "execution_count": null,
      "outputs": []
    },
    {
      "cell_type": "code",
      "metadata": {
        "colab": {
          "base_uri": "https://localhost:8080/"
        },
        "id": "_UA0ipd7or5F",
        "outputId": "c07d4b48-6e1c-49fb-a216-cf7e9fae3674"
      },
      "source": [
        "#Leer CSV\n",
        "with open('Data.csv', newline='') as File:  \n",
        "    reader = csv.reader(File)\n",
        "    for row in reader:\n",
        "        print(row)"
      ],
      "execution_count": null,
      "outputs": [
        {
          "output_type": "stream",
          "name": "stdout",
          "text": [
            "['Producto', 'Precio', 'Nuevo Precio', 'Link']\n",
            "['Apple iPhone 12 128GB ', '809990', '', 'https://www.falabella.com/falabella-cl/product/prod24342597/Apple-iPhone-12-128GB/14686769']\n",
            "['Smartphone Nova 8i 128GB + Huawei Band 4 ', '329990', '', 'https://www.falabella.com/falabella-cl/product/15685801/Smartphone-Nova-8i-128GB-+-Huawei-Band-4/15685801']\n",
            "['Freezer horizontal 138 litros blanco ', '159990', '', 'https://www.falabella.com/falabella-cl/product/110406782/Freezer-horizontal-138-litros-blanco/110406785']\n",
            "['MacBook Pro 13\" M1 8GB RAM 512GB SSD Space Gray Touch Bar ', '1309990', '', 'https://www.falabella.com/falabella-cl/product/15080676/MacBook-Pro-13-M1-8GB-RAM-512GB-SSD-Space-Gray-Touch-Bar/15080676']\n",
            "['Air Max 90 Zapatilla Urbana Hombre ', '112990', '', 'https://www.falabella.com/falabella-cl/product/50008026/Air-Max-90-Zapatilla-Urbana-Hombre/50008036']\n",
            "['Mocasín Hombre Cuero Negro ', '49990', '', 'https://www.falabella.com/falabella-cl/product/15415662/Mocasin-Hombre-Cuero-Negro/15415665']\n",
            "['Pack de 6 Calcetines Deportivos Training Hombre ', '15990', '', 'https://www.falabella.com/falabella-cl/product/14563054/Pack-de-6-Calcetines-Deportivos-Training-Hombre/14563056']\n",
            "['Cabina de ducha 90x90x215 cm ', '379990', '', 'https://www.falabella.com/falabella-cl/product/110150161/Cabina-de-ducha-90x90x215-cm/110150162']\n",
            "[\"OLED 65'' OLED65C1 4K TV UHD TV Smart TV + Magic Remote \", '1599990', '', 'https://www.falabella.com/falabella-cl/product/15093715/OLED-65-OLED65C1-4K-TV-UHD-TV-Smart-TV-+-Magic-Remote/15093715']\n"
          ]
        }
      ]
    },
    {
      "cell_type": "code",
      "metadata": {
        "id": "gIr7JJolqI74"
      },
      "source": [
        ""
      ],
      "execution_count": null,
      "outputs": []
    },
    {
      "cell_type": "markdown",
      "metadata": {
        "id": "iN7bFQO2qJfB"
      },
      "source": [
        "### **Bot-Precio**"
      ]
    },
    {
      "cell_type": "code",
      "metadata": {
        "id": "70Nqclf_7gg2",
        "colab": {
          "base_uri": "https://localhost:8080/"
        },
        "outputId": "1d3d3098-6046-4274-b816-3555c8968ace"
      },
      "source": [
        "!pip install python-telegram-bot -q"
      ],
      "execution_count": 1,
      "outputs": [
        {
          "output_type": "stream",
          "name": "stdout",
          "text": [
            "\u001b[K     |████████████████████████████████| 495 kB 10.3 MB/s \n",
            "\u001b[K     |████████████████████████████████| 428 kB 20.9 MB/s \n",
            "\u001b[K     |████████████████████████████████| 58 kB 3.8 MB/s \n",
            "\u001b[31mERROR: pip's dependency resolver does not currently take into account all the packages that are installed. This behaviour is the source of the following dependency conflicts.\n",
            "google-colab 1.0.0 requires tornado~=5.1.0; python_version >= \"3.0\", but you have tornado 6.1 which is incompatible.\u001b[0m\n",
            "\u001b[?25h"
          ]
        }
      ]
    },
    {
      "cell_type": "code",
      "metadata": {
        "id": "Nx_CsC0gqqKG"
      },
      "source": [
        "#Importamos librerías\n",
        "import json\n",
        "import csv\n",
        "import telegram\n",
        "from telegram import Bot\n",
        "from telegram import Update\n",
        "\n",
        "from bs4 import BeautifulSoup\n",
        "\n",
        "import requests\n",
        "import os.path as path\n",
        "from time import sleep\n",
        "#from telegram.ext import Updater, CommandHandler, MessageHandler, Filters\n",
        "\n",
        "\n",
        "#Credenciales\n",
        "API_telegram='API_key'\n"
      ],
      "execution_count": 73,
      "outputs": []
    },
    {
      "cell_type": "code",
      "metadata": {
        "id": "aOiYGbReqI27"
      },
      "source": [
        "####################  FUNCIONES  ####################\n",
        "\n",
        "#################### Telegram ####################\n",
        "id_chat\n",
        "##### ID usuario\n",
        "def id_user():\n",
        "    url = 'https://api.telegram.org/bot' + API_telegram +'/getUpdates?offset=-1'\n",
        "    response = requests.get(url).text       #Respuesta a texto\n",
        "    respuesta_dict = json.loads(response)   #Respuesta a diccionario\n",
        "    id_chat = respuesta_dict['result'][0]['message']['chat']['id']  #ID Chat\n",
        "    return id_chat\n",
        "\n",
        "##### ID usuario\n",
        "def id_msj():\n",
        "    url = 'https://api.telegram.org/bot' + API_telegram +'/getUpdates?offset=-1'\n",
        "    response = requests.get(url).text       #Respuesta a texto\n",
        "    respuesta_dict = json.loads(response)   #Respuesta a diccionario\n",
        "    id_msj = respuesta_dict['result'][0]['message']['message_id']  #ID MSJ\n",
        "    return id_msj\n",
        "\n",
        "##### Enviar mensaje        -----\n",
        "def msj_telegram(msj, user_id):\n",
        "    bot = Bot(API_telegram)\n",
        "    bot.send_message(text=msj, chat_id=user_id,parse_mode=telegram.ParseMode.HTML)\n",
        "\n",
        "##### Leer Msj\n",
        "def msj_user():\n",
        "    url = 'https://api.telegram.org/bot' + API_telegram +'/getUpdates?offset=-1'\n",
        "    response = requests.get(url).text           #Respuesta a texto\n",
        "    respuesta_dict = json.loads(response)       #Respuesta a diccionario\n",
        "    try:\n",
        "        msj = respuesta_dict['result'][0]['message']['text']    #ID Chat\n",
        "    except:\n",
        "        msj = respuesta_dict['result'][0]['message']['caption'].split('\\n')\n",
        "        msj= msj[1] \n",
        "\n",
        "    #Comprobamos si msj contiene link\n",
        "    if 'https://www.falabella' in msj:\n",
        "        msj = msj.split('\\n')\n",
        "        for i in msj:\n",
        "            if 'https://www.falabella' in i:\n",
        "                msj=i\n",
        "    return msj\n",
        "\n",
        "#################### Menu ####################\n",
        "\n",
        "\n",
        "\n",
        "#Saluda     -----\n",
        "def hola(user_id):\n",
        "    msj='Hola soy P4bot y te voy ayudar a encontrar los mejores precios, solo ten paciencia!...\\nEscribe #ayuda'\n",
        "    msj_telegram(msj, user_id)\n",
        "\n",
        "\n",
        "#Ayuda      -----\n",
        "def ayuda(user_id):\n",
        "    msj='Yo te ayudo!\\nSolo dime que quieres, escribiendo un comando:\\n\\n#lista  -> Para ver tú lista de Productos\\n#borrar  -> Para eliminar todo de la lista\\n# Para seguir un producto solo enviame el link.\\n\\n\\nCuando termines de agregar todos los productos, solo espera que yo te aviso si bajan de precio.'\n",
        "    msj_telegram(msj, user_id)\n",
        "\n",
        "\n",
        "\n",
        "#Agregar link directo       -----\n",
        "def add_url0(user_id):\n",
        "    productos=[]\n",
        "    crea_directorios(user_id)\n",
        "    if 'https://www.falabella' in msj_user():\n",
        "        msj = 'Producto Agregado!'\n",
        "        productos.append(msj_user())\n",
        "    #Manejo DB\n",
        "    escribir_links(productos, user_id)\n",
        "    #Msj Telegram\n",
        "    msj_telegram(msj, user_id)\n",
        "\n",
        "\n",
        "\n",
        "\n",
        "#Agregar link a lista\n",
        "def add_url(user_id):\n",
        "    productos=[]\n",
        "    aux= 'agrega'\n",
        "    cnt=0\n",
        "\n",
        "    #Agregar link\n",
        "    if msj_user().lower() == 'agrega':\n",
        "        aux = msj_user().lower()\n",
        "        msj_telegram('Ingresa el link del producto:', user_id)\n",
        "        while True:\n",
        "\n",
        "            #Agregamos link a lista\n",
        "            if 'https://www.falabella' in msj_user():\n",
        "                msj = 'Producto Agregado!'\n",
        "                productos.append(msj_user())\n",
        "                break\n",
        "\n",
        "            #Cancela Operación\n",
        "            if msj_user().lower() == 'no':\n",
        "                msj = 'Operación Cancelada!'\n",
        "                break\n",
        "                \n",
        "            #Cancela por tiempo\n",
        "            if cnt == 30:\n",
        "                msj = 'Tiempo agotado / Operación cancelada'\n",
        "                break\n",
        "\n",
        "            #Advertencia \n",
        "            if msj_user().lower() != aux :\n",
        "                msj='Si desea cancelar escriba <b>No</b>'\n",
        "                aux = msj_user().lower()\n",
        "                msj_telegram(msj, user_id)\n",
        "\n",
        "            cnt+=1\n",
        "            sleep(2)\n",
        "\n",
        "        #Mensaje informe     \n",
        "        msj_telegram(msj, user_id)\n",
        "\n",
        "        #Manejo DB\n",
        "        escribir_links(productos, user_id)\n",
        "\n",
        "\n",
        "\n",
        "\n",
        "#################### Archivos ####################\n",
        "\n",
        "\n",
        "##### Crea Directorios      -----\n",
        "def crea_directorios(user_id):\n",
        "    file = 'productos_' + str(user_id) + '.txt'\n",
        "    file_csv = 'data_' + str(user_id) + '.csv'\n",
        "    if  not path.exists(file):\n",
        "        f= open(file,'w')\n",
        "    if  not path.exists(file_csv):\n",
        "        f= open(file_csv,'w')\n",
        "\n",
        "##### Leer BD       -----\n",
        "def leer_BD(user_id):\n",
        "    file = 'productos_' + str(user_id) + '.txt'\n",
        "    f = open(file , 'r')\n",
        "    productos = []\n",
        "    for line in f:\n",
        "        productos.append(line.replace('\\n',''))\n",
        "    f.close()\n",
        "    return productos\n",
        "\n",
        "\n",
        "##### Escribir BD       -----\n",
        "def escribir_links(links, user_id):\n",
        "    file = 'productos_' + str(user_id) + '.txt'\n",
        "    f = open(file , 'a')\n",
        "    for element in links:\n",
        "        f.write(element + \"\\n\")\n",
        "    f.close()\n",
        "    compare(user_id)\n",
        "\n",
        "##### Leer BD       -----\n",
        "def leer_links(user_id):\n",
        "    file = 'productos_' + str(user_id) + '.txt'\n",
        "    f = open(file, 'r')\n",
        "    productos = []\n",
        "    for line in f:\n",
        "        productos.append(line.replace('\\n',''))\n",
        "    f.close()\n",
        "    return productos\n",
        "\n",
        "##### Leer CSV      -----\n",
        "def leer_csv(user_id):\n",
        "    file_csv = 'data_' + str(user_id) + '.csv'\n",
        "    with open(file_csv, newline='') as File:  \n",
        "        reader = csv.reader(File)\n",
        "        for row in reader:\n",
        "            print(row)\n",
        "\n",
        "##### Borrar BD     -----\n",
        "def borrar_links(user_id):\n",
        "    #Borra txt\n",
        "    file = 'productos_' + str(user_id) + '.txt'\n",
        "    f = open(file, 'w')\n",
        "    f.close()\n",
        "\n",
        "    #Borra CSV\n",
        "    file_csv = 'data_' + str(user_id) + '.csv'\n",
        "    with open(file_csv, 'w', newline='') as file:\n",
        "        writer = csv.writer(file)\n",
        "        writer.writerow(['Producto', 'Precio', 'Nuevo Precio', 'Link'])\n",
        "    \n",
        "    msj = 'Lista Borrada!'\n",
        "    msj_telegram(msj, user_id)\n",
        "\n",
        "\n",
        "##### Mi lista      -----\n",
        "def my_list(user_id):\n",
        "    dict2={}\n",
        "    lista=[]\n",
        "    crea_directorios(user_id)\n",
        "    file_csv = 'data_' + str(user_id) + '.csv'\n",
        "    with open(file_csv) as R:\n",
        "        lee = csv.reader(R.readlines()[1:])\n",
        "        for line in lee:\n",
        "            #Nombre,Precio,Precio Nuevo, Link\n",
        "            dict2.update({line[0]:[line[1], line[2], line[3]]})\n",
        "            lista.append([line[0], line[1], line[3]])\n",
        "        cant_productos = len(dict2)\n",
        "        msj_telegram('*'*32 + '\\n<b>Tú lista contiene {} productos:</b>\\n'.format(cant_productos) + '*'*32, user_id)\n",
        "        for i in lista:\n",
        "            producto = i[0][:30]\n",
        "            precio = format(int(i[1]), ',d').replace(',', '.')\n",
        "            link = i[2]\n",
        "            msj = '{} <b> -->   ${}</b> \\n<a href=\"{}\">Link Producto</a>'.format(producto, precio, link)\n",
        "            msj_telegram(msj, user_id)\n",
        "    \n",
        "\n",
        "##### Mi lista      -----\n",
        "def my_list2(user_id):\n",
        "    dict2={}\n",
        "    lista=[]\n",
        "    crea_directorios(user_id)\n",
        "    file_csv = 'data_' + str(user_id) + '.csv'\n",
        "    with open(file_csv) as R:\n",
        "        lee = csv.reader(R.readlines()[1:])\n",
        "        for line in lee:\n",
        "            #Nombre,Precio,Precio Nuevo, Link\n",
        "            dict2.update({line[0]:[line[1], line[2], line[3]]})\n",
        "            lista.append([line[0], line[1], line[2]])\n",
        "        cant_productos = len(dict2)\n",
        "        msj_telegram('*'*32 + '\\n<b>Tú lista contiene {} productos:</b>\\n'.format(cant_productos) + '*'*32, user_id)\n",
        "        for i in lista:\n",
        "            producto = i[0][:30]\n",
        "            precio = format(int(i[1]), ',d').replace(',', '.')\n",
        "            if i[2] != '':\n",
        "                precio2 = format(int(i[2]), ',d').replace(',', '.')\n",
        "            else:\n",
        "                precio2 = precio\n",
        "            link = i[2]\n",
        "            msj = '{} <b> -->   ${}</b> \\nPrecio anterior ${}'.format(producto, precio, precio2)\n",
        "            msj_telegram(msj, user_id)\n",
        "            \n",
        "\n",
        "\n",
        "\n",
        "#################### WEB ####################\n",
        "\n",
        "##### Comparacion de precios        -----\n",
        "def compare(user_id):\n",
        "    dict1 = {}\n",
        "    dict2 = {}\n",
        "\n",
        "    crea_directorios(user_id)\n",
        "    #Contenido HTML\n",
        "    for url in leer_BD(user_id):\n",
        "        html = requests.get(url)\n",
        "        soup = BeautifulSoup( html.text, 'html.parser')\n",
        "        try:\n",
        "            producto = soup.h1.get_text()\n",
        "            precio = soup.find( class_ = 'copy12' ).get_text().replace('$','').replace(' ','').replace('.','')     #class=\"copy12 primary high jsx-2612542277 normal\n",
        "        except:\n",
        "            continue\n",
        "        dict1.update({producto:[precio, None, url]})\n",
        "\n",
        "    \n",
        "    #Leer datos de CSV\n",
        "    file_csv = 'data_' + str(user_id) + '.csv'\n",
        "    with open(file_csv) as R:\n",
        "        lee = csv.reader(R.readlines()[1:])\n",
        "        for line in lee:\n",
        "            dict2.update({line[0]:[line[1], line[2], line[3]]})\n",
        "\n",
        "    #Comparación de dict1/dict2\n",
        "    if dict1 != dict2:\n",
        "        for key, value in dict1.items():\n",
        "\n",
        "            if key in dict2:\n",
        "                #Comparamos precio\n",
        "                if value[0] != dict2[key][0]:\n",
        "                    precio_antiguo = dict2[key][0]\n",
        "                    dict1.update({key:[value[0], precio_antiguo, value[2]]})\n",
        "                    msj = f'''Alerta de Precio\n",
        "                    {key} ${value[0]} {value[2]}'''\n",
        "                    #Cambio el precio envia msj\n",
        "                    msj_telegram(msj, user_id)\n",
        "                    #dict1[key] = [value[0], precio_antiguo, value[2]]\n",
        "                    \n",
        "    #Combina todo dict2 en dict1\n",
        "    dict1.update(dict2)\n",
        "\n",
        "    #Guardar datos\n",
        "    file_csv = 'data_' + str(user_id) + '.csv'\n",
        "    with open(file_csv, 'w', newline='') as file:\n",
        "        writer = csv.writer(file)\n",
        "        writer.writerow(['Producto', 'Precio', 'Nuevo Precio', 'Link'])\n",
        "        for key, value in dict1.items():\n",
        "            writer.writerow([key, value[0], value[1], value[2]])\n",
        "\n",
        "\n"
      ],
      "execution_count": 95,
      "outputs": []
    },
    {
      "cell_type": "code",
      "metadata": {
        "id": "TeSo9c0qEliM"
      },
      "source": [
        ""
      ],
      "execution_count": null,
      "outputs": []
    },
    {
      "cell_type": "code",
      "metadata": {
        "id": "YW3Cqiv2_PYG"
      },
      "source": [
        "#################### Menu ####################\n",
        "#0.- /start      \n",
        "#1.- Lista de productos --> #lista\n",
        "#2.- Agregar producto   --> pegar link directamente\n",
        "#3.- Editar lista --> #editar\n",
        "#4.- Borrar lista -->   #borrar\n",
        "#5.- Ayuda --> #ayuda\n",
        "#6.-\n",
        "#\n",
        "#\n",
        "\n",
        "aux_id = 0\n",
        "cnt = 0\n",
        "while True:\n",
        "\n",
        "    mensaje = msj_user().lower()\n",
        "    user_id = id_user()\n",
        "    id = id_msj()\n",
        "\n",
        "    if id != aux_id:\n",
        "        #OP.0\n",
        "        if mensaje == '/start':\n",
        "            hola(user_id)\n",
        "\n",
        "        #OP.1\n",
        "        if mensaje == '#lista':\n",
        "            my_list(user_id)\n",
        "        if mensaje == '#lista2':\n",
        "            my_list2(user_id)\n",
        "\n",
        "\n",
        "        #OP.2\n",
        "        if mensaje == '#agregar':\n",
        "            add_url(user_id)\n",
        "\n",
        "        if 'https://www.falabella' in mensaje:\n",
        "            add_url0(user_id)\n",
        "            \n",
        "        #OP.3\n",
        "        if mensaje == '#editar':\n",
        "            add_url(user_id)\n",
        "        #OP.4\n",
        "        if mensaje == '#borrar':\n",
        "            borrar_links(user_id)\n",
        "            \n",
        "        #OP.5\n",
        "        if mensaje == '#ayuda':\n",
        "            ayuda(user_id)\n",
        "\n",
        "        print(mensaje, id_user())\n",
        "\n",
        "        #Almacenamos Id_msj    \n",
        "        aux_id = id\n",
        "    \n",
        "\n",
        "    if cnt == 100:\n",
        "        compare()\n",
        "    sleep(3)\n"
      ],
      "execution_count": null,
      "outputs": []
    },
    {
      "cell_type": "code",
      "metadata": {
        "id": "NPRlZoQXzWvj"
      },
      "source": [
        ""
      ],
      "execution_count": null,
      "outputs": []
    },
    {
      "cell_type": "markdown",
      "metadata": {
        "id": "Zp5xfNvUzXmZ"
      },
      "source": [
        "### **BOTPriceV2**"
      ]
    },
    {
      "cell_type": "code",
      "metadata": {
        "id": "vtJDfjviziaQ"
      },
      "source": [
        "!pip install python-telegram-bot -q"
      ],
      "execution_count": 105,
      "outputs": []
    },
    {
      "cell_type": "code",
      "metadata": {
        "id": "Ezu5HXLUzfle"
      },
      "source": [
        "#Importamos librerías\n",
        "import json\n",
        "import csv\n",
        "import telegram\n",
        "from telegram import Bot\n",
        "from telegram import Update\n",
        "\n",
        "from bs4 import BeautifulSoup\n",
        "\n",
        "import requests\n",
        "import os.path as path\n",
        "from time import sleep\n",
        "#from telegram.ext import Updater, CommandHandler, MessageHandler, Filters\n",
        "\n",
        "\n",
        "#Credenciales\n",
        "API_telegram='API_key'\n"
      ],
      "execution_count": 106,
      "outputs": []
    },
    {
      "cell_type": "code",
      "metadata": {
        "id": "2XZC-Rw4zWs4"
      },
      "source": [
        "#Importamos librerías\n",
        "import os\n",
        "import csv\n",
        "import json\n",
        "import requests\n",
        "\n",
        "import os.path as path\n",
        "from time import sleep\n",
        "\n",
        "import telegram\n",
        "from telegram import Bot\n",
        "\n",
        "from bs4 import BeautifulSoup\n",
        "\n",
        "\n",
        "####################  FUNCIONES  ####################\n",
        "\n",
        "\n",
        "#################### Telegram ####################\n",
        "\n",
        "##### ID usuario\n",
        "def id_user():\n",
        "    url = 'https://api.telegram.org/bot' + API_telegram +'/getUpdates?offset=-1'\n",
        "    response = requests.get(url).text       #Respuesta a texto\n",
        "    respuesta_dict = json.loads(response)   #Respuesta a diccionario\n",
        "    id_chat = respuesta_dict['result'][0]['message']['chat']['id']  #ID Chat\n",
        "    return id_chat\n",
        "\n",
        "##### ID usuario\n",
        "def id_msj():\n",
        "    url = 'https://api.telegram.org/bot' + API_telegram +'/getUpdates?offset=-1'\n",
        "    response = requests.get(url).text       #Respuesta a texto\n",
        "    respuesta_dict = json.loads(response)   #Respuesta a diccionario\n",
        "    id_msj = respuesta_dict['result'][0]['message']['message_id']  #ID MSJ\n",
        "    return id_msj\n",
        "\n",
        "##### Enviar mensaje        -----\n",
        "def msj_telegram(msj, user_id):\n",
        "    bot = Bot(API_telegram)\n",
        "    bot.send_message(text=msj, chat_id=user_id,parse_mode=telegram.ParseMode.HTML)\n",
        "\n",
        "##### Leer Msj\n",
        "def msj_user():\n",
        "    url = 'https://api.telegram.org/bot' + API_telegram +'/getUpdates?offset=-1'\n",
        "    response = requests.get(url).text           #Respuesta a texto\n",
        "    respuesta_dict = json.loads(response)       #Respuesta a diccionario\n",
        "    try:\n",
        "        msj = respuesta_dict['result'][0]['message']['text']    #ID Chat\n",
        "    except:\n",
        "        msj = respuesta_dict['result'][0]['message']['caption'].split('\\n')\n",
        "        msj= msj[1] \n",
        "    #Comprobamos si msj contiene link\n",
        "    if 'https://www.falabella' in msj:\n",
        "        msj = msj.split('\\n')\n",
        "        for i in msj:\n",
        "            if 'https://www.falabella' in i:\n",
        "                msj=i\n",
        "    return msj\n",
        "\n",
        "\n",
        "\n",
        "#################### Menu ####################\n",
        "\n",
        "#Saluda     -----\n",
        "def hola(user_id):\n",
        "    msj='Hola soy P4bot y te voy ayudar a encontrar los mejores precios, solo ten paciencia!...\\nEscribe #ayuda'\n",
        "    msj_telegram(msj, user_id)\n",
        "\n",
        "#Ayuda      -----\n",
        "def ayuda(user_id):\n",
        "    msj='Yo te ayudo!\\nSolo dime que quieres, escribiendo un comando:\\n\\n#lista  -> Para ver tú lista de Productos\\n#borrar  -> Para eliminar todo de la lista\\n# Para seguir un producto solo enviame el link.\\n\\n\\nCuando termines de agregar todos los productos, solo espera que yo te aviso si bajan de precio.'\n",
        "    msj_telegram(msj, user_id)\n",
        "\n",
        "#Agregar link directo       -----\n",
        "def add_url0(user_id):\n",
        "    productos=[]\n",
        "    crea_directorios(user_id)\n",
        "    if 'https://www.falabella' in msj_user():\n",
        "        msj = 'Producto Agregado!'\n",
        "        productos.append(msj_user())\n",
        "    #Manejo DB\n",
        "    escribir_links(productos, user_id)\n",
        "    #Msj Telegram\n",
        "    msj_telegram(msj, user_id)\n",
        "\n",
        "#Agregar link a lista\n",
        "def add_url(user_id):\n",
        "    productos=[]\n",
        "    aux= 'agrega'\n",
        "    cnt=0\n",
        "    #Agregar link\n",
        "    if msj_user().lower() == 'agrega':\n",
        "        aux = msj_user().lower()\n",
        "        msj_telegram('Ingresa el link del producto:', user_id)\n",
        "        while True:\n",
        "            #Agregamos link a lista\n",
        "            if 'https://www.falabella' in msj_user():\n",
        "                msj = 'Producto Agregado!'\n",
        "                productos.append(msj_user())\n",
        "                break\n",
        "            #Cancela Operación\n",
        "            if msj_user().lower() == 'no':\n",
        "                msj = 'Operación Cancelada!'\n",
        "                break  \n",
        "            #Cancela por tiempo\n",
        "            if cnt == 30:\n",
        "                msj = 'Tiempo agotado / Operación cancelada'\n",
        "                break\n",
        "            #Advertencia \n",
        "            if msj_user().lower() != aux :\n",
        "                msj='Si desea cancelar escriba <b>No</b>'\n",
        "                aux = msj_user().lower()\n",
        "                msj_telegram(msj, user_id)\n",
        "            cnt+=1\n",
        "            sleep(2)\n",
        "        #Mensaje informe     \n",
        "        msj_telegram(msj, user_id)\n",
        "        #Manejo DB\n",
        "        escribir_links(productos, user_id)\n",
        "\n",
        "\n",
        "\n",
        "#################### Archivos ####################\n",
        "\n",
        "##### Crea Directorios      -----\n",
        "def crea_directorios(user_id):\n",
        "    try:\n",
        "        os.mkdir('data')\n",
        "    except:\n",
        "        pass\n",
        "    file = 'productos_' + str(user_id) + '.txt'\n",
        "    file_csv = 'data_' + str(user_id) + '.csv'\n",
        "    if  not path.exists('data/' + file):\n",
        "        f= open('data/' + file,'w')\n",
        "    if  not path.exists('data/' + file_csv):\n",
        "        f= open('data/' + file_csv,'w')\n",
        "\n",
        "#Leer id folders\n",
        "def lee_folder_id():\n",
        "    ids_users=[]\n",
        "    contenido = os.listdir('data')\n",
        "    contenido\n",
        "    for file in contenido:\n",
        "        if '.txt' in file:\n",
        "            id= file.split('_')[1].replace('.txt', '')\n",
        "            ids_users.append(id)\n",
        "    return ids_users\n",
        "\n",
        "##### Leer BD       -----\n",
        "def leer_BD(user_id):\n",
        "    file = 'productos_' + str(user_id) + '.txt'\n",
        "    f = open('data/' + file , 'r')\n",
        "    productos = []\n",
        "    for line in f:\n",
        "        productos.append(line.replace('\\n',''))\n",
        "    f.close()\n",
        "    return productos\n",
        "\n",
        "##### Escribir BD       -----\n",
        "def escribir_links(links, user_id):\n",
        "    file = 'productos_' + str(user_id) + '.txt'\n",
        "    f = open('data/' + file , 'a')\n",
        "    for element in links:\n",
        "        f.write(element + \"\\n\")\n",
        "    f.close()\n",
        "    compare()\n",
        "\n",
        "##### Leer BD       -----\n",
        "def leer_links(user_id):\n",
        "    file = 'productos_' + str(user_id) + '.txt'\n",
        "    f = open('data/' + file, 'r')\n",
        "    productos = []\n",
        "    for line in f:\n",
        "        productos.append(line.replace('\\n',''))\n",
        "    f.close()\n",
        "    return productos\n",
        "\n",
        "##### Leer CSV      -----\n",
        "def leer_csv(user_id):\n",
        "    file_csv = 'data_' + str(user_id) + '.csv'\n",
        "    with open('data/' + file_csv, newline='') as File:  \n",
        "        reader = csv.reader(File)\n",
        "        for row in reader:\n",
        "            print(row)\n",
        "\n",
        "##### Borrar BD     -----\n",
        "def borrar_links(user_id):\n",
        "    #Borra txt\n",
        "    file = 'productos_' + str(user_id) + '.txt'\n",
        "    f = open('data/' + file, 'w')\n",
        "    f.close()\n",
        "    #Borra CSV\n",
        "    file_csv = 'data_' + str(user_id) + '.csv'\n",
        "    with open('data/' + file_csv, 'w', newline='') as file:\n",
        "        writer = csv.writer(file)\n",
        "        writer.writerow(['Producto', 'Precio', 'Nuevo Precio', 'Link'])\n",
        "    msj = 'Lista Borrada!'\n",
        "    msj_telegram(msj, user_id)\n",
        "\n",
        "##### Mi lista      -----\n",
        "def my_list(user_id):\n",
        "    dict2={}\n",
        "    lista=[]\n",
        "    crea_directorios(user_id)\n",
        "    file_csv = 'data_' + str(user_id) + '.csv'\n",
        "    with open('data/' + file_csv) as R:\n",
        "        lee = csv.reader(R.readlines()[1:])\n",
        "        for line in lee:\n",
        "            #Nombre,Precio,Precio Nuevo, Link\n",
        "            dict2.update({line[0]:[line[1], line[2], line[3]]})\n",
        "            lista.append([line[0], line[1], line[3]])\n",
        "        cant_productos = len(dict2)\n",
        "        msj_telegram('*'*32 + '\\n<b>Tú lista contiene {} productos:</b>\\n'.format(cant_productos) + '*'*32, user_id)\n",
        "        for i in lista:\n",
        "            producto = i[0][:30]\n",
        "            precio = format(int(i[1]), ',d').replace(',', '.')\n",
        "            link = i[2]\n",
        "            msj = '{} <b> -->   ${}</b> \\n<a href=\"{}\">Link Producto</a>'.format(producto, precio, link)\n",
        "            msj_telegram(msj, user_id)\n",
        "    \n",
        "##### Mi lista2      -----\n",
        "def my_list2(user_id):\n",
        "    dict2={}\n",
        "    lista=[]\n",
        "    crea_directorios(user_id)\n",
        "    file_csv = 'data_' + str(user_id) + '.csv'\n",
        "    with open('data/' + file_csv) as R:\n",
        "        lee = csv.reader(R.readlines()[1:])\n",
        "        for line in lee:\n",
        "            #Nombre,Precio,Precio Nuevo, Link\n",
        "            dict2.update({line[0]:[line[1], line[2], line[3]]})\n",
        "            lista.append([line[0], line[1], line[2]])\n",
        "        cant_productos = len(dict2)\n",
        "        msj_telegram('*'*32 + '\\n<b>Tú lista contiene {} productos:</b>\\n'.format(cant_productos) + '*'*32, user_id)\n",
        "        for i in lista:\n",
        "            producto = i[0][:30]\n",
        "            precio = format(int(i[1]), ',d').replace(',', '.')\n",
        "            if i[2] != '':\n",
        "                precio2 = format(int(i[2]), ',d').replace(',', '.')\n",
        "            else:\n",
        "                precio2 = precio\n",
        "            link = i[2]\n",
        "            msj = '{} <b> -->   ${}</b> \\nPrecio anterior ${}'.format(producto, precio, precio2)\n",
        "            msj_telegram(msj, user_id)\n",
        "\n",
        "\n",
        "\n",
        "#################### WEB ####################\n",
        "\n",
        "##### Comparacion de precios        -----\n",
        "def compare():\n",
        "    lista_usuarios = lee_folder_id()\n",
        "    for user_id in lista_usuarios:\n",
        "        dict1 = {}\n",
        "        dict2 = {}\n",
        "        crea_directorios(user_id)\n",
        "        #Contenido HTML\n",
        "        for url in leer_BD(user_id):\n",
        "            html = requests.get(url)\n",
        "            soup = BeautifulSoup( html.text, 'html.parser')\n",
        "            try:\n",
        "                producto = soup.h1.get_text()\n",
        "                precio = soup.find( class_ = 'copy12' ).get_text().replace('$','').replace(' ','').replace('.','')     #class=\"copy12 primary high jsx-2612542277 normal\n",
        "            except:\n",
        "                continue\n",
        "            dict1.update({producto:[precio, None, url]})\n",
        "        #Leer datos de CSV\n",
        "        file_csv = 'data_' + str(user_id) + '.csv'\n",
        "        with open('data/' + file_csv) as R:\n",
        "            lee = csv.reader(R.readlines()[1:])\n",
        "            for line in lee:\n",
        "                dict2.update({line[0]:[line[1], line[2], line[3]]})\n",
        "        #Comparación de dict1/dict2\n",
        "        if dict1 != dict2:\n",
        "            for key, value in dict1.items():\n",
        "                if key in dict2:\n",
        "                    #Comparamos precio\n",
        "                    if value[0] != dict2[key][0]:\n",
        "                        precio_antiguo = dict2[key][0]\n",
        "                        dict1.update({key:[value[0], precio_antiguo, value[2]]})\n",
        "                        msj = f'''Alerta de Precio\n",
        "                        {key} ${value[0]} {value[2]}'''\n",
        "                        #Cambio el precio envia msj\n",
        "                        msj_telegram(msj, user_id)\n",
        "                        #dict1[key] = [value[0], precio_antiguo, value[2]]              \n",
        "        #Combina todo dict2 en dict1\n",
        "        dict1.update(dict2)\n",
        "        #Guardar datos\n",
        "        file_csv = 'data_' + str(user_id) + '.csv'\n",
        "        with open('data/' + file_csv, 'w', newline='') as file:\n",
        "            writer = csv.writer(file)\n",
        "            writer.writerow(['Producto', 'Precio', 'Nuevo Precio', 'Link'])\n",
        "            for key, value in dict1.items():\n",
        "                writer.writerow([key, value[0], value[1], value[2]])\n"
      ],
      "execution_count": 129,
      "outputs": []
    },
    {
      "cell_type": "code",
      "metadata": {
        "id": "0ftjyJnbzqYt"
      },
      "source": [
        "#################### Menu ####################\n",
        "#0.- /start      \n",
        "#1.- Lista de productos --> #lista\n",
        "#2.- Agregar producto   --> pegar link directamente\n",
        "#3.- Editar lista --> #editar\n",
        "#4.- Borrar lista -->   #borrar\n",
        "#5.- Ayuda --> #ayuda\n",
        "#6.- Comparar precios --> #bot\n",
        "#7.- Cantidad de usuarios --> #user\n",
        "#\n",
        "\n",
        "aux_id = 0\n",
        "cnt = 0\n",
        "while True:\n",
        "\n",
        "    mensaje = msj_user().lower()\n",
        "    user_id = id_user()\n",
        "    id = id_msj()\n",
        "\n",
        "    if id != aux_id:\n",
        "        #OP.0\n",
        "        if mensaje == '/start':\n",
        "            hola(user_id)\n",
        "\n",
        "        #OP.1\n",
        "        if mensaje == '#lista':\n",
        "            my_list(user_id)\n",
        "        if mensaje == '#lista2':\n",
        "            my_list2(user_id)\n",
        "\n",
        "\n",
        "        #OP.2\n",
        "        if mensaje == '#agregar':\n",
        "            add_url(user_id)\n",
        "\n",
        "        if 'https://www.falabella' in mensaje:\n",
        "            add_url0(user_id)\n",
        "            \n",
        "        #OP.3\n",
        "        if mensaje == '#editar':\n",
        "            add_url(user_id)\n",
        "        #OP.4\n",
        "        if mensaje == '#borrar':\n",
        "            borrar_links(user_id)\n",
        "            \n",
        "        #OP.5\n",
        "        if mensaje == '#ayuda':\n",
        "            ayuda(user_id)\n",
        "\n",
        "        #OP.6\n",
        "        if mensaje == '#bot':\n",
        "            compare()\n",
        "\n",
        "        #OP.7\n",
        "        if mensaje == '#user':\n",
        "            msj = 'Cantidad de usuarios ' + str(len(lee_folder_id()))\n",
        "            msj_telegram(msj, user_id)\n",
        "\n",
        "        print(mensaje, id_user())\n",
        "\n",
        "        #Almacenamos Id_msj    \n",
        "        aux_id = id\n",
        "    \n",
        "\n",
        "    if cnt == 100:\n",
        "        compare()\n",
        "    sleep(3)\n"
      ],
      "execution_count": null,
      "outputs": []
    },
    {
      "cell_type": "code",
      "metadata": {
        "id": "yw3DRvORr8zS"
      },
      "source": [
        ""
      ],
      "execution_count": null,
      "outputs": []
    },
    {
      "cell_type": "markdown",
      "metadata": {
        "id": "VKYj9hdideAG"
      },
      "source": [
        "### **Respuesta Json**\n"
      ]
    },
    {
      "cell_type": "code",
      "metadata": {
        "id": "kDksROtydVpU"
      },
      "source": [
        "import requests"
      ],
      "execution_count": 133,
      "outputs": []
    },
    {
      "cell_type": "code",
      "metadata": {
        "id": "_o1qMGl5dVuK"
      },
      "source": [
        "url = 'https://api.telegram.org/bot' + API_telegram + '/getUpdates?offset=-1'\n",
        "\n",
        "payload = {'key1': 'value1', 'key2': 'value2'}\n",
        "response = requests.get(url, params=payload)"
      ],
      "execution_count": 141,
      "outputs": []
    },
    {
      "cell_type": "code",
      "metadata": {
        "colab": {
          "base_uri": "https://localhost:8080/"
        },
        "id": "kPiuHVkVdVwk",
        "outputId": "1c83d52f-3e98-4f87-8b4f-a114ec5cb9cc"
      },
      "source": [
        "response"
      ],
      "execution_count": 142,
      "outputs": [
        {
          "output_type": "execute_result",
          "data": {
            "text/plain": [
              "<Response [200]>"
            ]
          },
          "metadata": {},
          "execution_count": 142
        }
      ]
    },
    {
      "cell_type": "code",
      "metadata": {
        "id": "LFqKZ4hmdV3w"
      },
      "source": [
        "response.url"
      ],
      "execution_count": null,
      "outputs": []
    },
    {
      "cell_type": "code",
      "metadata": {
        "id": "IKGFBsWsdV6Q"
      },
      "source": [
        "a = response.json"
      ],
      "execution_count": 144,
      "outputs": []
    },
    {
      "cell_type": "code",
      "metadata": {
        "colab": {
          "base_uri": "https://localhost:8080/"
        },
        "id": "MuoMUsnidV_U",
        "outputId": "025f764b-a7a7-4c5d-921f-6b2914d724f9"
      },
      "source": [
        "a"
      ],
      "execution_count": 145,
      "outputs": [
        {
          "output_type": "execute_result",
          "data": {
            "text/plain": [
              "<bound method Response.json of <Response [200]>>"
            ]
          },
          "metadata": {},
          "execution_count": 145
        }
      ]
    },
    {
      "cell_type": "code",
      "metadata": {
        "id": "70wb_9UYdWB_"
      },
      "source": [
        "s = response.text"
      ],
      "execution_count": 146,
      "outputs": []
    },
    {
      "cell_type": "code",
      "metadata": {
        "colab": {
          "base_uri": "https://localhost:8080/"
        },
        "id": "fVoGKPfjdWEu",
        "outputId": "a59b0932-4a70-4208-bd98-525425cb3651"
      },
      "source": [
        "import json\n",
        "jsonstring1 = s\n",
        "\n",
        "#Load JSON string into a dictionary\n",
        "json_dicti = json.loads(jsonstring1)\n",
        "\n",
        "#Loop along dictionary keys\n",
        "for key in json_dicti:\n",
        "    print(key, \":\", json_dicti[key])\n"
      ],
      "execution_count": 147,
      "outputs": [
        {
          "output_type": "stream",
          "name": "stdout",
          "text": [
            "ok : True\n",
            "result : [{'update_id': 132785833, 'message': {'message_id': 1390, 'from': {'id': 1574306819, 'is_bot': False, 'first_name': 'Danny', 'last_name': 'CP', 'language_code': 'es'}, 'chat': {'id': 1574306819, 'first_name': 'Danny', 'last_name': 'CP', 'type': 'private'}, 'date': 1637943582, 'text': '#lista', 'entities': [{'offset': 0, 'length': 6, 'type': 'hashtag'}]}}]\n"
          ]
        }
      ]
    },
    {
      "cell_type": "code",
      "metadata": {
        "id": "DgQmPUUidWG9"
      },
      "source": [
        ""
      ],
      "execution_count": null,
      "outputs": []
    },
    {
      "cell_type": "code",
      "metadata": {
        "id": "OxaXhElndWJe"
      },
      "source": [
        ""
      ],
      "execution_count": null,
      "outputs": []
    },
    {
      "cell_type": "code",
      "metadata": {
        "id": "Tuqdn7ildWMH"
      },
      "source": [
        ""
      ],
      "execution_count": null,
      "outputs": []
    },
    {
      "cell_type": "code",
      "metadata": {
        "id": "hZPspcqGdWOs"
      },
      "source": [
        ""
      ],
      "execution_count": null,
      "outputs": []
    },
    {
      "cell_type": "code",
      "metadata": {
        "id": "FM1pBkOldWRU"
      },
      "source": [
        ""
      ],
      "execution_count": null,
      "outputs": []
    },
    {
      "cell_type": "code",
      "metadata": {
        "id": "34ik8w1idWUF"
      },
      "source": [
        ""
      ],
      "execution_count": null,
      "outputs": []
    },
    {
      "cell_type": "code",
      "metadata": {
        "id": "Mbwhc4wjdWWe"
      },
      "source": [
        ""
      ],
      "execution_count": null,
      "outputs": []
    },
    {
      "cell_type": "code",
      "metadata": {
        "id": "Aii1tm8PdWZW"
      },
      "source": [
        ""
      ],
      "execution_count": null,
      "outputs": []
    },
    {
      "cell_type": "code",
      "metadata": {
        "id": "wfisCM9HdWbh"
      },
      "source": [
        "#Citar a usuario\n",
        "msj = '<a href=\"tg://user?id=295193784\">Citar a Usuario</a>'\n"
      ],
      "execution_count": null,
      "outputs": []
    },
    {
      "cell_type": "code",
      "metadata": {
        "id": "GsjuZAj1B6EO"
      },
      "source": [
        "#https://core.telegram.org/bots/api#formatting-options\n",
        "\n",
        "\n",
        "#https://api.telegram.org/bot<BOTID>/getUpdates\n",
        "#https://api.telegram.org/bot<BOTID>/sendMessage?chat_id=\"yourchatid\"&text=\"Hello!\""
      ],
      "execution_count": null,
      "outputs": []
    }
  ]
}